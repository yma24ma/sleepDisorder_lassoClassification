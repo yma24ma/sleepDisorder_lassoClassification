{
 "cells": [
  {
   "cell_type": "markdown",
   "id": "16d4454a-4e52-4ed3-84a4-ce2a0b2fc911",
   "metadata": {},
   "source": [
    "# Statistical Modeling using Sleep Health and Lifestyle Dataset\n",
    "### STAT301 Group 13 Final Report\n",
    "April 12th, 2025"
   ]
  },
  {
   "cell_type": "markdown",
   "id": "f761e663-ec8b-4c4f-8528-99e7f65a0cdc",
   "metadata": {},
   "source": [
    "**Contributors:** \\\n",
    "Yuki Matsushima #84356377 \\\n",
    "Masaya Tanaka #"
   ]
  },
  {
   "cell_type": "code",
   "execution_count": 1,
   "id": "d2c0445b-65e7-4cd7-babe-2a636e0e417f",
   "metadata": {},
   "outputs": [
    {
     "name": "stderr",
     "output_type": "stream",
     "text": [
      "── \u001b[1mAttaching core tidyverse packages\u001b[22m ──────────────────────── tidyverse 2.0.0 ──\n",
      "\u001b[32m✔\u001b[39m \u001b[34mdplyr    \u001b[39m 1.1.4     \u001b[32m✔\u001b[39m \u001b[34mreadr    \u001b[39m 2.1.5\n",
      "\u001b[32m✔\u001b[39m \u001b[34mforcats  \u001b[39m 1.0.0     \u001b[32m✔\u001b[39m \u001b[34mstringr  \u001b[39m 1.5.1\n",
      "\u001b[32m✔\u001b[39m \u001b[34mggplot2  \u001b[39m 3.5.1     \u001b[32m✔\u001b[39m \u001b[34mtibble   \u001b[39m 3.2.1\n",
      "\u001b[32m✔\u001b[39m \u001b[34mlubridate\u001b[39m 1.9.3     \u001b[32m✔\u001b[39m \u001b[34mtidyr    \u001b[39m 1.3.1\n",
      "\u001b[32m✔\u001b[39m \u001b[34mpurrr    \u001b[39m 1.0.2     \n",
      "── \u001b[1mConflicts\u001b[22m ────────────────────────────────────────── tidyverse_conflicts() ──\n",
      "\u001b[31m✖\u001b[39m \u001b[34mdplyr\u001b[39m::\u001b[32mfilter()\u001b[39m masks \u001b[34mstats\u001b[39m::filter()\n",
      "\u001b[31m✖\u001b[39m \u001b[34mdplyr\u001b[39m::\u001b[32mlag()\u001b[39m    masks \u001b[34mstats\u001b[39m::lag()\n",
      "\u001b[36mℹ\u001b[39m Use the conflicted package (\u001b[3m\u001b[34m<http://conflicted.r-lib.org/>\u001b[39m\u001b[23m) to force all conflicts to become errors\n"
     ]
    }
   ],
   "source": [
    "library(tidyverse)"
   ]
  },
  {
   "cell_type": "markdown",
   "id": "bd0d7556-ea9f-4b5a-a80d-aa84b19593af",
   "metadata": {},
   "source": [
    "## Introduction"
   ]
  },
  {
   "cell_type": "markdown",
   "id": "c262040f-6d83-4bc1-ba67-ce30c5c30e61",
   "metadata": {},
   "source": [
    "## Methods and Results"
   ]
  },
  {
   "cell_type": "markdown",
   "id": "ac5c7ab6-05db-4529-8759-68c5ae6c532a",
   "metadata": {},
   "source": [
    "### a) Data"
   ]
  },
  {
   "cell_type": "code",
   "execution_count": 2,
   "id": "31dce58d-818d-4333-b83a-fc6990aca32f",
   "metadata": {},
   "outputs": [
    {
     "name": "stderr",
     "output_type": "stream",
     "text": [
      "\u001b[1mRows: \u001b[22m\u001b[34m374\u001b[39m \u001b[1mColumns: \u001b[22m\u001b[34m13\u001b[39m\n",
      "\u001b[36m──\u001b[39m \u001b[1mColumn specification\u001b[22m \u001b[36m────────────────────────────────────────────────────────\u001b[39m\n",
      "\u001b[1mDelimiter:\u001b[22m \",\"\n",
      "\u001b[31mchr\u001b[39m (5): Gender, Occupation, BMI Category, Blood Pressure, Sleep Disorder\n",
      "\u001b[32mdbl\u001b[39m (8): Person ID, Age, Sleep Duration, Quality of Sleep, Physical Activity...\n",
      "\n",
      "\u001b[36mℹ\u001b[39m Use `spec()` to retrieve the full column specification for this data.\n",
      "\u001b[36mℹ\u001b[39m Specify the column types or set `show_col_types = FALSE` to quiet this message.\n"
     ]
    },
    {
     "data": {
      "text/html": [
       "<table class=\"dataframe\">\n",
       "<caption>A tibble: 6 × 13</caption>\n",
       "<thead>\n",
       "\t<tr><th scope=col>Person ID</th><th scope=col>Gender</th><th scope=col>Age</th><th scope=col>Occupation</th><th scope=col>Sleep Duration</th><th scope=col>Quality of Sleep</th><th scope=col>Physical Activity Level</th><th scope=col>Stress Level</th><th scope=col>BMI Category</th><th scope=col>Blood Pressure</th><th scope=col>Heart Rate</th><th scope=col>Daily Steps</th><th scope=col>Sleep Disorder</th></tr>\n",
       "\t<tr><th scope=col>&lt;dbl&gt;</th><th scope=col>&lt;chr&gt;</th><th scope=col>&lt;dbl&gt;</th><th scope=col>&lt;chr&gt;</th><th scope=col>&lt;dbl&gt;</th><th scope=col>&lt;dbl&gt;</th><th scope=col>&lt;dbl&gt;</th><th scope=col>&lt;dbl&gt;</th><th scope=col>&lt;chr&gt;</th><th scope=col>&lt;chr&gt;</th><th scope=col>&lt;dbl&gt;</th><th scope=col>&lt;dbl&gt;</th><th scope=col>&lt;chr&gt;</th></tr>\n",
       "</thead>\n",
       "<tbody>\n",
       "\t<tr><td>1</td><td>Male</td><td>27</td><td>Software Engineer   </td><td>6.1</td><td>6</td><td>42</td><td>6</td><td>Overweight</td><td>126/83</td><td>77</td><td> 4200</td><td>None       </td></tr>\n",
       "\t<tr><td>2</td><td>Male</td><td>28</td><td>Doctor              </td><td>6.2</td><td>6</td><td>60</td><td>8</td><td>Normal    </td><td>125/80</td><td>75</td><td>10000</td><td>None       </td></tr>\n",
       "\t<tr><td>3</td><td>Male</td><td>28</td><td>Doctor              </td><td>6.2</td><td>6</td><td>60</td><td>8</td><td>Normal    </td><td>125/80</td><td>75</td><td>10000</td><td>None       </td></tr>\n",
       "\t<tr><td>4</td><td>Male</td><td>28</td><td>Sales Representative</td><td>5.9</td><td>4</td><td>30</td><td>8</td><td>Obese     </td><td>140/90</td><td>85</td><td> 3000</td><td>Sleep Apnea</td></tr>\n",
       "\t<tr><td>5</td><td>Male</td><td>28</td><td>Sales Representative</td><td>5.9</td><td>4</td><td>30</td><td>8</td><td>Obese     </td><td>140/90</td><td>85</td><td> 3000</td><td>Sleep Apnea</td></tr>\n",
       "\t<tr><td>6</td><td>Male</td><td>28</td><td>Software Engineer   </td><td>5.9</td><td>4</td><td>30</td><td>8</td><td>Obese     </td><td>140/90</td><td>85</td><td> 3000</td><td>Insomnia   </td></tr>\n",
       "</tbody>\n",
       "</table>\n"
      ],
      "text/latex": [
       "A tibble: 6 × 13\n",
       "\\begin{tabular}{lllllllllllll}\n",
       " Person ID & Gender & Age & Occupation & Sleep Duration & Quality of Sleep & Physical Activity Level & Stress Level & BMI Category & Blood Pressure & Heart Rate & Daily Steps & Sleep Disorder\\\\\n",
       " <dbl> & <chr> & <dbl> & <chr> & <dbl> & <dbl> & <dbl> & <dbl> & <chr> & <chr> & <dbl> & <dbl> & <chr>\\\\\n",
       "\\hline\n",
       "\t 1 & Male & 27 & Software Engineer    & 6.1 & 6 & 42 & 6 & Overweight & 126/83 & 77 &  4200 & None       \\\\\n",
       "\t 2 & Male & 28 & Doctor               & 6.2 & 6 & 60 & 8 & Normal     & 125/80 & 75 & 10000 & None       \\\\\n",
       "\t 3 & Male & 28 & Doctor               & 6.2 & 6 & 60 & 8 & Normal     & 125/80 & 75 & 10000 & None       \\\\\n",
       "\t 4 & Male & 28 & Sales Representative & 5.9 & 4 & 30 & 8 & Obese      & 140/90 & 85 &  3000 & Sleep Apnea\\\\\n",
       "\t 5 & Male & 28 & Sales Representative & 5.9 & 4 & 30 & 8 & Obese      & 140/90 & 85 &  3000 & Sleep Apnea\\\\\n",
       "\t 6 & Male & 28 & Software Engineer    & 5.9 & 4 & 30 & 8 & Obese      & 140/90 & 85 &  3000 & Insomnia   \\\\\n",
       "\\end{tabular}\n"
      ],
      "text/markdown": [
       "\n",
       "A tibble: 6 × 13\n",
       "\n",
       "| Person ID &lt;dbl&gt; | Gender &lt;chr&gt; | Age &lt;dbl&gt; | Occupation &lt;chr&gt; | Sleep Duration &lt;dbl&gt; | Quality of Sleep &lt;dbl&gt; | Physical Activity Level &lt;dbl&gt; | Stress Level &lt;dbl&gt; | BMI Category &lt;chr&gt; | Blood Pressure &lt;chr&gt; | Heart Rate &lt;dbl&gt; | Daily Steps &lt;dbl&gt; | Sleep Disorder &lt;chr&gt; |\n",
       "|---|---|---|---|---|---|---|---|---|---|---|---|---|\n",
       "| 1 | Male | 27 | Software Engineer    | 6.1 | 6 | 42 | 6 | Overweight | 126/83 | 77 |  4200 | None        |\n",
       "| 2 | Male | 28 | Doctor               | 6.2 | 6 | 60 | 8 | Normal     | 125/80 | 75 | 10000 | None        |\n",
       "| 3 | Male | 28 | Doctor               | 6.2 | 6 | 60 | 8 | Normal     | 125/80 | 75 | 10000 | None        |\n",
       "| 4 | Male | 28 | Sales Representative | 5.9 | 4 | 30 | 8 | Obese      | 140/90 | 85 |  3000 | Sleep Apnea |\n",
       "| 5 | Male | 28 | Sales Representative | 5.9 | 4 | 30 | 8 | Obese      | 140/90 | 85 |  3000 | Sleep Apnea |\n",
       "| 6 | Male | 28 | Software Engineer    | 5.9 | 4 | 30 | 8 | Obese      | 140/90 | 85 |  3000 | Insomnia    |\n",
       "\n"
      ],
      "text/plain": [
       "  Person ID Gender Age Occupation           Sleep Duration Quality of Sleep\n",
       "1 1         Male   27  Software Engineer    6.1            6               \n",
       "2 2         Male   28  Doctor               6.2            6               \n",
       "3 3         Male   28  Doctor               6.2            6               \n",
       "4 4         Male   28  Sales Representative 5.9            4               \n",
       "5 5         Male   28  Sales Representative 5.9            4               \n",
       "6 6         Male   28  Software Engineer    5.9            4               \n",
       "  Physical Activity Level Stress Level BMI Category Blood Pressure Heart Rate\n",
       "1 42                      6            Overweight   126/83         77        \n",
       "2 60                      8            Normal       125/80         75        \n",
       "3 60                      8            Normal       125/80         75        \n",
       "4 30                      8            Obese        140/90         85        \n",
       "5 30                      8            Obese        140/90         85        \n",
       "6 30                      8            Obese        140/90         85        \n",
       "  Daily Steps Sleep Disorder\n",
       "1  4200       None          \n",
       "2 10000       None          \n",
       "3 10000       None          \n",
       "4  3000       Sleep Apnea   \n",
       "5  3000       Sleep Apnea   \n",
       "6  3000       Insomnia      "
      ]
     },
     "metadata": {},
     "output_type": "display_data"
    }
   ],
   "source": [
    "# read the dataset\n",
    "sleep_data <- read_csv(\"https://raw.githubusercontent.com/yma24ma/stat301_project/refs/heads/main/Sleep_health_and_lifestyle_dataset.csv\")\n",
    "head(sleep_data)"
   ]
  },
  {
   "cell_type": "markdown",
   "id": "d65cb621-7ab3-4a86-9b88-768353b9b4b0",
   "metadata": {},
   "source": [
    "**Description:** \\\n",
    "The Sleep Health and Lifestyle Dataset consists of 374 observations and 13 variables related to individuals' sleep habits, physical health, and lifestyle choices. It aims to analyze the factors influencing sleep quality and overall well-being. This dataset is clarified as synthetic and created by Laksika Tharmalingam for illustrative purposes, (thus its not observational nor experimantal) and can be retrieved through Kaggle. (https://www.kaggle.com/datasets/uom190346a/sleep-health-and-lifestyle-dataset?resource=download)"
   ]
  },
  {
   "cell_type": "markdown",
   "id": "0c610430-708f-4a5c-853e-fda206c02d6b",
   "metadata": {},
   "source": [
    "**Variables:** \n",
    "|Variable Name|Type|Description|\n",
    "|-------------|----|-----------|\n",
    "|`Person ID`|Integer|An identifier for each individual.|\n",
    "|`Gender`|Categorical|The gender of the person (Male/Female).|\n",
    "|`Age`|Integer|The age of the person in years.|\n",
    "|`Occupation`|String|The occupation or profession of the person.|\n",
    "|`Sleep Duration`|Float|The number of hours the person sleeps per day.|\n",
    "|`Quality of Sleep`|Integer|A subjective rating of the quality of sleep, ranging from 1 to 10.|\n",
    "|`Physical Activity Level`|Integer|The number of minutes the person engages in physical activity daily.|\n",
    "|`Stress Level`|Integer|A subjective rating of the stress level experienced by the person, ranging from 1 to 10.|\n",
    "|`BMI Category`|Categorical|The BMI category of the person (Underweight, Normal, Overweight).|\n",
    "|`Blood Pressure`|String|The blood pressure measurement of the person, indicated as systolic pressure over diastolic pressure. (stored as a character)|\n",
    "|`Heart Rate`|Integer|The resting heart rate of the person in beats per minute.|\n",
    "|`Daily Steps`|Integer|The number of steps the person takes per day.|\n",
    "|`Sleep Disorder`|Categorical|The presence or absence of a sleep disorder in the person (None, Insomnia, Sleep Apnea).|\n",
    "\n",
    "**Pre-Selection Variables** \\\n",
    "`Person ID` can be dropped since they do not provide sufficient information about sleep and lifestyle information. "
   ]
  },
  {
   "cell_type": "markdown",
   "id": "dce456d2-1063-4588-8235-fd5214c5c23f",
   "metadata": {},
   "source": [
    "### b) Explanatory Data Analysis"
   ]
  },
  {
   "cell_type": "code",
   "execution_count": 3,
   "id": "0a38fc39-c896-495b-9bb4-541345117041",
   "metadata": {},
   "outputs": [
    {
     "data": {
      "text/html": [
       "<table class=\"dataframe\">\n",
       "<caption>A tibble: 6 × 14</caption>\n",
       "<thead>\n",
       "\t<tr><th scope=col>person_id</th><th scope=col>gender</th><th scope=col>age</th><th scope=col>occupation</th><th scope=col>sleep_duration</th><th scope=col>quality_of_sleep</th><th scope=col>physical_activity_level</th><th scope=col>stress_level</th><th scope=col>bmi_category</th><th scope=col>systolic_bp</th><th scope=col>diastolic_bp</th><th scope=col>heart_rate</th><th scope=col>daily_steps</th><th scope=col>sleep_disorder</th></tr>\n",
       "\t<tr><th scope=col>&lt;dbl&gt;</th><th scope=col>&lt;chr&gt;</th><th scope=col>&lt;dbl&gt;</th><th scope=col>&lt;chr&gt;</th><th scope=col>&lt;dbl&gt;</th><th scope=col>&lt;dbl&gt;</th><th scope=col>&lt;dbl&gt;</th><th scope=col>&lt;dbl&gt;</th><th scope=col>&lt;chr&gt;</th><th scope=col>&lt;dbl&gt;</th><th scope=col>&lt;dbl&gt;</th><th scope=col>&lt;dbl&gt;</th><th scope=col>&lt;dbl&gt;</th><th scope=col>&lt;chr&gt;</th></tr>\n",
       "</thead>\n",
       "<tbody>\n",
       "\t<tr><td>1</td><td>Male</td><td>27</td><td>Software Engineer   </td><td>6.1</td><td>6</td><td>42</td><td>6</td><td>Overweight</td><td>126</td><td>83</td><td>77</td><td> 4200</td><td>None       </td></tr>\n",
       "\t<tr><td>2</td><td>Male</td><td>28</td><td>Doctor              </td><td>6.2</td><td>6</td><td>60</td><td>8</td><td>Normal    </td><td>125</td><td>80</td><td>75</td><td>10000</td><td>None       </td></tr>\n",
       "\t<tr><td>3</td><td>Male</td><td>28</td><td>Doctor              </td><td>6.2</td><td>6</td><td>60</td><td>8</td><td>Normal    </td><td>125</td><td>80</td><td>75</td><td>10000</td><td>None       </td></tr>\n",
       "\t<tr><td>4</td><td>Male</td><td>28</td><td>Sales Representative</td><td>5.9</td><td>4</td><td>30</td><td>8</td><td>Obese     </td><td>140</td><td>90</td><td>85</td><td> 3000</td><td>Sleep Apnea</td></tr>\n",
       "\t<tr><td>5</td><td>Male</td><td>28</td><td>Sales Representative</td><td>5.9</td><td>4</td><td>30</td><td>8</td><td>Obese     </td><td>140</td><td>90</td><td>85</td><td> 3000</td><td>Sleep Apnea</td></tr>\n",
       "\t<tr><td>6</td><td>Male</td><td>28</td><td>Software Engineer   </td><td>5.9</td><td>4</td><td>30</td><td>8</td><td>Obese     </td><td>140</td><td>90</td><td>85</td><td> 3000</td><td>Insomnia   </td></tr>\n",
       "</tbody>\n",
       "</table>\n"
      ],
      "text/latex": [
       "A tibble: 6 × 14\n",
       "\\begin{tabular}{llllllllllllll}\n",
       " person\\_id & gender & age & occupation & sleep\\_duration & quality\\_of\\_sleep & physical\\_activity\\_level & stress\\_level & bmi\\_category & systolic\\_bp & diastolic\\_bp & heart\\_rate & daily\\_steps & sleep\\_disorder\\\\\n",
       " <dbl> & <chr> & <dbl> & <chr> & <dbl> & <dbl> & <dbl> & <dbl> & <chr> & <dbl> & <dbl> & <dbl> & <dbl> & <chr>\\\\\n",
       "\\hline\n",
       "\t 1 & Male & 27 & Software Engineer    & 6.1 & 6 & 42 & 6 & Overweight & 126 & 83 & 77 &  4200 & None       \\\\\n",
       "\t 2 & Male & 28 & Doctor               & 6.2 & 6 & 60 & 8 & Normal     & 125 & 80 & 75 & 10000 & None       \\\\\n",
       "\t 3 & Male & 28 & Doctor               & 6.2 & 6 & 60 & 8 & Normal     & 125 & 80 & 75 & 10000 & None       \\\\\n",
       "\t 4 & Male & 28 & Sales Representative & 5.9 & 4 & 30 & 8 & Obese      & 140 & 90 & 85 &  3000 & Sleep Apnea\\\\\n",
       "\t 5 & Male & 28 & Sales Representative & 5.9 & 4 & 30 & 8 & Obese      & 140 & 90 & 85 &  3000 & Sleep Apnea\\\\\n",
       "\t 6 & Male & 28 & Software Engineer    & 5.9 & 4 & 30 & 8 & Obese      & 140 & 90 & 85 &  3000 & Insomnia   \\\\\n",
       "\\end{tabular}\n"
      ],
      "text/markdown": [
       "\n",
       "A tibble: 6 × 14\n",
       "\n",
       "| person_id &lt;dbl&gt; | gender &lt;chr&gt; | age &lt;dbl&gt; | occupation &lt;chr&gt; | sleep_duration &lt;dbl&gt; | quality_of_sleep &lt;dbl&gt; | physical_activity_level &lt;dbl&gt; | stress_level &lt;dbl&gt; | bmi_category &lt;chr&gt; | systolic_bp &lt;dbl&gt; | diastolic_bp &lt;dbl&gt; | heart_rate &lt;dbl&gt; | daily_steps &lt;dbl&gt; | sleep_disorder &lt;chr&gt; |\n",
       "|---|---|---|---|---|---|---|---|---|---|---|---|---|---|\n",
       "| 1 | Male | 27 | Software Engineer    | 6.1 | 6 | 42 | 6 | Overweight | 126 | 83 | 77 |  4200 | None        |\n",
       "| 2 | Male | 28 | Doctor               | 6.2 | 6 | 60 | 8 | Normal     | 125 | 80 | 75 | 10000 | None        |\n",
       "| 3 | Male | 28 | Doctor               | 6.2 | 6 | 60 | 8 | Normal     | 125 | 80 | 75 | 10000 | None        |\n",
       "| 4 | Male | 28 | Sales Representative | 5.9 | 4 | 30 | 8 | Obese      | 140 | 90 | 85 |  3000 | Sleep Apnea |\n",
       "| 5 | Male | 28 | Sales Representative | 5.9 | 4 | 30 | 8 | Obese      | 140 | 90 | 85 |  3000 | Sleep Apnea |\n",
       "| 6 | Male | 28 | Software Engineer    | 5.9 | 4 | 30 | 8 | Obese      | 140 | 90 | 85 |  3000 | Insomnia    |\n",
       "\n"
      ],
      "text/plain": [
       "  person_id gender age occupation           sleep_duration quality_of_sleep\n",
       "1 1         Male   27  Software Engineer    6.1            6               \n",
       "2 2         Male   28  Doctor               6.2            6               \n",
       "3 3         Male   28  Doctor               6.2            6               \n",
       "4 4         Male   28  Sales Representative 5.9            4               \n",
       "5 5         Male   28  Sales Representative 5.9            4               \n",
       "6 6         Male   28  Software Engineer    5.9            4               \n",
       "  physical_activity_level stress_level bmi_category systolic_bp diastolic_bp\n",
       "1 42                      6            Overweight   126         83          \n",
       "2 60                      8            Normal       125         80          \n",
       "3 60                      8            Normal       125         80          \n",
       "4 30                      8            Obese        140         90          \n",
       "5 30                      8            Obese        140         90          \n",
       "6 30                      8            Obese        140         90          \n",
       "  heart_rate daily_steps sleep_disorder\n",
       "1 77          4200       None          \n",
       "2 75         10000       None          \n",
       "3 75         10000       None          \n",
       "4 85          3000       Sleep Apnea   \n",
       "5 85          3000       Sleep Apnea   \n",
       "6 85          3000       Insomnia      "
      ]
     },
     "metadata": {},
     "output_type": "display_data"
    }
   ],
   "source": [
    "# convert the variable names into snake_case format\n",
    "colnames(sleep_data) <- gsub(\" \", \"_\", tolower(colnames(sleep_data)))\n",
    "\n",
    "# split the blood_pressure variable into systolic_bp and diastolic_bp and mutate into a numerical format\n",
    "sleep_data <- sleep_data |>\n",
    "separate(blood_pressure, into = c(\"systolic_bp\", \"diastolic_bp\")) |>\n",
    "mutate(systolic_bp = as.numeric(systolic_bp),\n",
    "       diastolic_bp = as.numeric(diastolic_bp))\n",
    "\n",
    "# mutate bmi_category into \"Underweight\", \"Normal\", \"Overweight\", and \"Obese\"\n",
    "# I chose to keep \"Obese\" since it's recognized by the governemnt of Canada as one of the classification of BMI\n",
    "sleep_data <- sleep_data |>\n",
    "mutate(bmi_category = if_else(bmi_category %in% c(\"Normal\", \"Normal Weight\"), \"Normal\", bmi_category))\n",
    "\n",
    "\n",
    "head(sleep_data)"
   ]
  },
  {
   "cell_type": "markdown",
   "id": "a7b74df6-12bd-4829-a5c9-2336179abb0e",
   "metadata": {},
   "source": [
    "### c) Methods: Plan"
   ]
  },
  {
   "cell_type": "markdown",
   "id": "12fb132e-b94e-4fd1-807b-4dfc9de01082",
   "metadata": {},
   "source": [
    "## Discussion"
   ]
  },
  {
   "cell_type": "markdown",
   "id": "0338cd1f-46ab-448b-acca-2cc9b46e7114",
   "metadata": {},
   "source": [
    "## References"
   ]
  },
  {
   "cell_type": "code",
   "execution_count": null,
   "id": "9623c1cd-0dbd-474a-9d2d-72c5ea193711",
   "metadata": {},
   "outputs": [],
   "source": []
  }
 ],
 "metadata": {
  "kernelspec": {
   "display_name": "R",
   "language": "R",
   "name": "ir"
  },
  "language_info": {
   "codemirror_mode": "r",
   "file_extension": ".r",
   "mimetype": "text/x-r-source",
   "name": "R",
   "pygments_lexer": "r",
   "version": "4.3.3"
  }
 },
 "nbformat": 4,
 "nbformat_minor": 5
}
